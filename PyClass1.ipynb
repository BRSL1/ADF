{
  "nbformat": 4,
  "nbformat_minor": 0,
  "metadata": {
    "colab": {
      "name": "PyClass1.ipynb",
      "provenance": [],
      "collapsed_sections": [],
      "authorship_tag": "ABX9TyP2S5ygFkxvll9usWOU2QmI",
      "include_colab_link": true
    },
    "kernelspec": {
      "name": "python3",
      "display_name": "Python 3"
    },
    "language_info": {
      "name": "python"
    }
  },
  "cells": [
    {
      "cell_type": "markdown",
      "metadata": {
        "id": "view-in-github",
        "colab_type": "text"
      },
      "source": [
        "<a href=\"https://colab.research.google.com/github/NAG4HANA/ADF/blob/master/PyClass1.ipynb\" target=\"_parent\"><img src=\"https://colab.research.google.com/assets/colab-badge.svg\" alt=\"Open In Colab\"/></a>"
      ]
    },
    {
      "cell_type": "markdown",
      "metadata": {
        "id": "38FJHB5Pl3M-"
      },
      "source": [
        "![x](https://img.shields.io/badge/Nagababu-Welcome%20to%20Python-red?logo=netflix&style=for-the-badge)\n",
        "# 1st Python Class \n",
        "\n",
        "Introduction to **Literals** ( aka **Constants** )\n",
        "\n",
        "- Integer Numbers       456, -98\n",
        "- HexaDecimal Numbers  0xA567D   0xF00D \n",
        "- Octal Numbers        0o752 \n",
        "\n",
        "- Floating Point Numbers  45.897     -0.0000073\n",
        "- Exponential Numbers  $3\\times10^8$  = 3E8    $1.6\\times10^{-19}$  = 1.6E-19 \n",
        "\n",
        "- Complex Numbers      $3+i4$ =  3 + 4j\n",
        "\n",
        "- Strings or Character Constants    'Hyd - 5000073'    \"Hyd - 500073\"\n",
        "- Multi-Line String Delimiters:   THREE Single Quotes or Double Quotes\n",
        "\n",
        "- Boolean Constants   False  True \n",
        "- Null Constant       None \n",
        "- Positive Infinite   float(\"Inf\")\n",
        "- Negativee Infinite  float(\"-Inf\") \n",
        "- Not a Number        NaN \n",
        "\n",
        "\n",
        "in Python, we have Built-in Data Types same as Types of Literals\n",
        "- int\n",
        "- float \n",
        "- complex\n",
        "- str \n",
        "- bool \n",
        "- NoneType  \n",
        "\n",
        "\n",
        "above Data Types can be used as **Functions** to convert values from one type to another type \n",
        "\n",
        "The function **type()**  can be used to identify typeof any Object \n",
        "\n",
        "\n",
        "\n",
        "\n",
        "\n",
        "\n",
        "\n",
        "\n",
        "\n",
        "\n",
        "\n",
        "\n",
        "\n",
        "\n",
        "\n",
        "\n"
      ]
    },
    {
      "cell_type": "code",
      "metadata": {
        "colab": {
          "base_uri": "https://localhost:8080/"
        },
        "id": "tGseejr7sJEZ",
        "outputId": "36e8cec7-ea57-4260-a2bf-846105df6ded"
      },
      "source": [
        "type(54)"
      ],
      "execution_count": null,
      "outputs": [
        {
          "output_type": "execute_result",
          "data": {
            "text/plain": [
              "int"
            ]
          },
          "metadata": {},
          "execution_count": 50
        }
      ]
    },
    {
      "cell_type": "code",
      "metadata": {
        "colab": {
          "base_uri": "https://localhost:8080/"
        },
        "id": "3Nl36aaDsQ1u",
        "outputId": "6c1d766d-84be-4d0d-a99d-4c77e953b50f"
      },
      "source": [
        "type(5.4)"
      ],
      "execution_count": null,
      "outputs": [
        {
          "output_type": "execute_result",
          "data": {
            "text/plain": [
              "float"
            ]
          },
          "metadata": {},
          "execution_count": 51
        }
      ]
    },
    {
      "cell_type": "code",
      "metadata": {
        "colab": {
          "base_uri": "https://localhost:8080/"
        },
        "id": "5ERLeI-9sT62",
        "outputId": "4c018d99-6414-413d-9e08-651fc2f7c205"
      },
      "source": [
        "type(5E-4)"
      ],
      "execution_count": null,
      "outputs": [
        {
          "output_type": "execute_result",
          "data": {
            "text/plain": [
              "float"
            ]
          },
          "metadata": {},
          "execution_count": 52
        }
      ]
    },
    {
      "cell_type": "code",
      "metadata": {
        "colab": {
          "base_uri": "https://localhost:8080/"
        },
        "id": "YOCkyJubsZa4",
        "outputId": "b437b4c7-d91e-4560-bcc2-a7c833cf91df"
      },
      "source": [
        "type(\"God is great\")"
      ],
      "execution_count": null,
      "outputs": [
        {
          "output_type": "execute_result",
          "data": {
            "text/plain": [
              "str"
            ]
          },
          "metadata": {},
          "execution_count": 53
        }
      ]
    },
    {
      "cell_type": "code",
      "metadata": {
        "colab": {
          "base_uri": "https://localhost:8080/"
        },
        "id": "Lg3GBvBuseSW",
        "outputId": "8d0667eb-40bf-4f65-e778-639744d427fb"
      },
      "source": [
        "type(3+4j)"
      ],
      "execution_count": null,
      "outputs": [
        {
          "output_type": "execute_result",
          "data": {
            "text/plain": [
              "complex"
            ]
          },
          "metadata": {},
          "execution_count": 54
        }
      ]
    },
    {
      "cell_type": "code",
      "metadata": {
        "colab": {
          "base_uri": "https://localhost:8080/"
        },
        "id": "StRNUOX9sjqY",
        "outputId": "3829568a-7516-4297-d317-2b833cf11278"
      },
      "source": [
        "type(True)"
      ],
      "execution_count": null,
      "outputs": [
        {
          "output_type": "execute_result",
          "data": {
            "text/plain": [
              "bool"
            ]
          },
          "metadata": {},
          "execution_count": 55
        }
      ]
    },
    {
      "cell_type": "code",
      "metadata": {
        "colab": {
          "base_uri": "https://localhost:8080/"
        },
        "id": "FZQJYiUUsno8",
        "outputId": "b5425a4b-13ee-49f6-a5b8-b6e04bb827bb"
      },
      "source": [
        "type(None)"
      ],
      "execution_count": null,
      "outputs": [
        {
          "output_type": "execute_result",
          "data": {
            "text/plain": [
              "NoneType"
            ]
          },
          "metadata": {},
          "execution_count": 56
        }
      ]
    },
    {
      "cell_type": "code",
      "metadata": {
        "colab": {
          "base_uri": "https://localhost:8080/"
        },
        "id": "iWI9Bh_1ssyS",
        "outputId": "bbb701d7-e288-4f95-d963-202f33b50d04"
      },
      "source": [
        "float(\"Inf\")"
      ],
      "execution_count": null,
      "outputs": [
        {
          "output_type": "execute_result",
          "data": {
            "text/plain": [
              "inf"
            ]
          },
          "metadata": {},
          "execution_count": 58
        }
      ]
    },
    {
      "cell_type": "code",
      "metadata": {
        "colab": {
          "base_uri": "https://localhost:8080/"
        },
        "id": "2BMGMLd0s6N-",
        "outputId": "92fe3edb-05cd-49ac-b686-09f2c37e2fab"
      },
      "source": [
        "float(\"-Inf\")"
      ],
      "execution_count": null,
      "outputs": [
        {
          "output_type": "execute_result",
          "data": {
            "text/plain": [
              "-inf"
            ]
          },
          "metadata": {},
          "execution_count": 59
        }
      ]
    },
    {
      "cell_type": "code",
      "metadata": {
        "colab": {
          "base_uri": "https://localhost:8080/"
        },
        "id": "MPQzq8oZs_Nl",
        "outputId": "859d7d9f-a175-42be-e6a9-12aafc9cfa55"
      },
      "source": [
        "float(\"Inf\") + 100"
      ],
      "execution_count": null,
      "outputs": [
        {
          "output_type": "execute_result",
          "data": {
            "text/plain": [
              "inf"
            ]
          },
          "metadata": {},
          "execution_count": 60
        }
      ]
    },
    {
      "cell_type": "code",
      "metadata": {
        "colab": {
          "base_uri": "https://localhost:8080/"
        },
        "id": "ngtze9ybtFuI",
        "outputId": "0fa0018b-8b10-43ff-9fe1-669695b9b08f"
      },
      "source": [
        "float(\"Inf\") + float(\"-Inf\")"
      ],
      "execution_count": null,
      "outputs": [
        {
          "output_type": "execute_result",
          "data": {
            "text/plain": [
              "nan"
            ]
          },
          "metadata": {},
          "execution_count": 61
        }
      ]
    },
    {
      "cell_type": "markdown",
      "metadata": {
        "id": "t7H3a6_IyBbI"
      },
      "source": [
        "## Decimal Number System Digits 0 1 2 3 4 5 6 7 8 9\n",
        "## Binary Number System Digits 0 1\n",
        "## Octal Number System Digits 0 1 2 3 4 5 6 7\n",
        "## Hexa Decimal Number System Digits 0 1 2 3 4 5 6 7 8 9 A B C D E F "
      ]
    },
    {
      "cell_type": "code",
      "metadata": {
        "colab": {
          "base_uri": "https://localhost:8080/"
        },
        "id": "BxLfcxACtMnu",
        "outputId": "94fb9734-84ce-4ed7-dafe-8fc53d040099"
      },
      "source": [
        "print(0xA)\n",
        "print(0o10)"
      ],
      "execution_count": null,
      "outputs": [
        {
          "output_type": "stream",
          "name": "stdout",
          "text": [
            "10\n",
            "8\n"
          ]
        }
      ]
    },
    {
      "cell_type": "code",
      "metadata": {
        "colab": {
          "base_uri": "https://localhost:8080/"
        },
        "id": "aSfUqjlbuCJ4",
        "outputId": "7e865b2c-5208-4640-d1ec-f558cebb1473"
      },
      "source": [
        "type(0xA)\n",
        "type(0o10)"
      ],
      "execution_count": null,
      "outputs": [
        {
          "output_type": "execute_result",
          "data": {
            "text/plain": [
              "int"
            ]
          },
          "metadata": {},
          "execution_count": 63
        }
      ]
    },
    {
      "cell_type": "markdown",
      "metadata": {
        "id": "GzulKohRuNvE"
      },
      "source": [
        "# Type Conversion Functions\n",
        "- int()\n",
        "- float()\n",
        "- complex()\n",
        "- str()\n",
        "- bool()"
      ]
    },
    {
      "cell_type": "code",
      "metadata": {
        "colab": {
          "base_uri": "https://localhost:8080/"
        },
        "id": "AUxpoX91uotT",
        "outputId": "5dfdb936-2104-405d-a0e5-a3a4eb29c715"
      },
      "source": [
        "int(34.78)"
      ],
      "execution_count": null,
      "outputs": [
        {
          "output_type": "execute_result",
          "data": {
            "text/plain": [
              "34"
            ]
          },
          "metadata": {},
          "execution_count": 65
        }
      ]
    },
    {
      "cell_type": "code",
      "metadata": {
        "colab": {
          "base_uri": "https://localhost:8080/"
        },
        "id": "ZvHFyvW7uyqF",
        "outputId": "cb03f2cb-8bd1-424e-a45f-0478caa1edbd"
      },
      "source": [
        "float(34)"
      ],
      "execution_count": null,
      "outputs": [
        {
          "output_type": "execute_result",
          "data": {
            "text/plain": [
              "34.0"
            ]
          },
          "metadata": {},
          "execution_count": 66
        }
      ]
    },
    {
      "cell_type": "code",
      "metadata": {
        "colab": {
          "base_uri": "https://localhost:8080/"
        },
        "id": "D5mX8708u1XA",
        "outputId": "cf12198e-056a-41fd-c03c-c7a1a63085b1"
      },
      "source": [
        "complex(3)"
      ],
      "execution_count": null,
      "outputs": [
        {
          "output_type": "execute_result",
          "data": {
            "text/plain": [
              "(3+0j)"
            ]
          },
          "metadata": {},
          "execution_count": 67
        }
      ]
    },
    {
      "cell_type": "code",
      "metadata": {
        "colab": {
          "base_uri": "https://localhost:8080/",
          "height": 35
        },
        "id": "9xYR-Tx6u7eW",
        "outputId": "be932240-9273-42b7-94a8-8864316a4b1c"
      },
      "source": [
        "str(34)"
      ],
      "execution_count": null,
      "outputs": [
        {
          "output_type": "execute_result",
          "data": {
            "application/vnd.google.colaboratory.intrinsic+json": {
              "type": "string"
            },
            "text/plain": [
              "'34'"
            ]
          },
          "metadata": {},
          "execution_count": 68
        }
      ]
    },
    {
      "cell_type": "code",
      "metadata": {
        "colab": {
          "base_uri": "https://localhost:8080/"
        },
        "id": "TDUyHTq8u-lA",
        "outputId": "52c2aa41-0a39-45e4-e936-ad2de6224ec7"
      },
      "source": [
        "bool(0)"
      ],
      "execution_count": null,
      "outputs": [
        {
          "output_type": "execute_result",
          "data": {
            "text/plain": [
              "False"
            ]
          },
          "metadata": {},
          "execution_count": 69
        }
      ]
    },
    {
      "cell_type": "code",
      "metadata": {
        "colab": {
          "base_uri": "https://localhost:8080/"
        },
        "id": "uvuWgWUTvGV4",
        "outputId": "64fc4824-423f-47b9-c1c8-356e81e65e7f"
      },
      "source": [
        "bool(34)"
      ],
      "execution_count": null,
      "outputs": [
        {
          "output_type": "execute_result",
          "data": {
            "text/plain": [
              "True"
            ]
          },
          "metadata": {},
          "execution_count": 70
        }
      ]
    },
    {
      "cell_type": "code",
      "metadata": {
        "colab": {
          "base_uri": "https://localhost:8080/"
        },
        "id": "Io03-JIuvVQ6",
        "outputId": "855f87e9-d17c-47fe-ca2a-2ad3a0a462a2"
      },
      "source": [
        "bool(-34)"
      ],
      "execution_count": null,
      "outputs": [
        {
          "output_type": "execute_result",
          "data": {
            "text/plain": [
              "True"
            ]
          },
          "metadata": {},
          "execution_count": 73
        }
      ]
    },
    {
      "cell_type": "code",
      "metadata": {
        "colab": {
          "base_uri": "https://localhost:8080/"
        },
        "id": "PKgJ6ncsvLqK",
        "outputId": "e748a6af-9837-4410-fb18-cf0e8762d932"
      },
      "source": [
        "int(False)"
      ],
      "execution_count": null,
      "outputs": [
        {
          "output_type": "execute_result",
          "data": {
            "text/plain": [
              "0"
            ]
          },
          "metadata": {},
          "execution_count": 71
        }
      ]
    },
    {
      "cell_type": "code",
      "metadata": {
        "colab": {
          "base_uri": "https://localhost:8080/"
        },
        "id": "5SYkCqN4vO25",
        "outputId": "41b8ffe6-41ac-4bab-84db-ce4df722c808"
      },
      "source": [
        "int(True)"
      ],
      "execution_count": null,
      "outputs": [
        {
          "output_type": "execute_result",
          "data": {
            "text/plain": [
              "1"
            ]
          },
          "metadata": {},
          "execution_count": 72
        }
      ]
    },
    {
      "cell_type": "code",
      "metadata": {
        "colab": {
          "base_uri": "https://localhost:8080/",
          "height": 167
        },
        "id": "00lL-pYJve8s",
        "outputId": "bbcb0a30-6049-4f92-8dcf-421dd9db05bf"
      },
      "source": [
        "int(None)"
      ],
      "execution_count": null,
      "outputs": [
        {
          "output_type": "error",
          "ename": "TypeError",
          "evalue": "ignored",
          "traceback": [
            "\u001b[0;31m---------------------------------------------------------------------------\u001b[0m",
            "\u001b[0;31mTypeError\u001b[0m                                 Traceback (most recent call last)",
            "\u001b[0;32m<ipython-input-75-af2123a46eb2>\u001b[0m in \u001b[0;36m<module>\u001b[0;34m()\u001b[0m\n\u001b[0;32m----> 1\u001b[0;31m \u001b[0mint\u001b[0m\u001b[0;34m(\u001b[0m\u001b[0;32mNone\u001b[0m\u001b[0;34m)\u001b[0m\u001b[0;34m\u001b[0m\u001b[0;34m\u001b[0m\u001b[0m\n\u001b[0m",
            "\u001b[0;31mTypeError\u001b[0m: int() argument must be a string, a bytes-like object or a number, not 'NoneType'"
          ]
        }
      ]
    },
    {
      "cell_type": "markdown",
      "metadata": {
        "id": "xyhWD4l_wKBG"
      },
      "source": [
        "# Arithmetic Operators\n",
        " - + \n",
        " - - \n",
        " - * \n",
        " - /   for Fractional Quotient  \n",
        " - %   for Remainder  \n",
        " - //  for Integer Quotient\n",
        " - **  for Exponentiation"
      ]
    },
    {
      "cell_type": "code",
      "metadata": {
        "colab": {
          "base_uri": "https://localhost:8080/"
        },
        "id": "V0-YrZ0fwB1r",
        "outputId": "7211d80b-d826-43c3-8d3c-55ed6f1d490b"
      },
      "source": [
        "5 + 3"
      ],
      "execution_count": null,
      "outputs": [
        {
          "output_type": "execute_result",
          "data": {
            "text/plain": [
              "8"
            ]
          },
          "metadata": {},
          "execution_count": 78
        }
      ]
    },
    {
      "cell_type": "code",
      "metadata": {
        "colab": {
          "base_uri": "https://localhost:8080/"
        },
        "id": "MzhQ6EOiwqeW",
        "outputId": "7e9fc17a-9255-46d4-cb37-4de14f14f529"
      },
      "source": [
        "5 - 3"
      ],
      "execution_count": null,
      "outputs": [
        {
          "output_type": "execute_result",
          "data": {
            "text/plain": [
              "2"
            ]
          },
          "metadata": {},
          "execution_count": 79
        }
      ]
    },
    {
      "cell_type": "code",
      "metadata": {
        "colab": {
          "base_uri": "https://localhost:8080/"
        },
        "id": "iQzNNlcpwscK",
        "outputId": "8e94da98-5aba-450f-c118-ac8128d201d7"
      },
      "source": [
        "5 * 3"
      ],
      "execution_count": null,
      "outputs": [
        {
          "output_type": "execute_result",
          "data": {
            "text/plain": [
              "15"
            ]
          },
          "metadata": {},
          "execution_count": 80
        }
      ]
    },
    {
      "cell_type": "code",
      "metadata": {
        "colab": {
          "base_uri": "https://localhost:8080/"
        },
        "id": "4jqyF56bwvW8",
        "outputId": "16ac1779-d242-4d7d-db1d-852b36ef2d91"
      },
      "source": [
        "5 / 3"
      ],
      "execution_count": null,
      "outputs": [
        {
          "output_type": "execute_result",
          "data": {
            "text/plain": [
              "1.6666666666666667"
            ]
          },
          "metadata": {},
          "execution_count": 81
        }
      ]
    },
    {
      "cell_type": "code",
      "metadata": {
        "colab": {
          "base_uri": "https://localhost:8080/"
        },
        "id": "CIhuuMBiw4JN",
        "outputId": "a7fdcad4-937a-4128-f912-760b2cd9b5ec"
      },
      "source": [
        "5 // 3"
      ],
      "execution_count": null,
      "outputs": [
        {
          "output_type": "execute_result",
          "data": {
            "text/plain": [
              "1"
            ]
          },
          "metadata": {},
          "execution_count": 83
        }
      ]
    },
    {
      "cell_type": "code",
      "metadata": {
        "colab": {
          "base_uri": "https://localhost:8080/"
        },
        "id": "1mJNJvHkxC4v",
        "outputId": "b399d9c3-cb6d-4ed7-ee28-694a5ad936ef"
      },
      "source": [
        "5 % 3"
      ],
      "execution_count": null,
      "outputs": [
        {
          "output_type": "execute_result",
          "data": {
            "text/plain": [
              "2"
            ]
          },
          "metadata": {},
          "execution_count": 85
        }
      ]
    },
    {
      "cell_type": "code",
      "metadata": {
        "colab": {
          "base_uri": "https://localhost:8080/"
        },
        "id": "hOftS746-4Pr",
        "outputId": "84d0c6bf-d5b1-4f16-e1bd-5236e4cd480e"
      },
      "source": [
        "5 ** 3"
      ],
      "execution_count": null,
      "outputs": [
        {
          "output_type": "execute_result",
          "data": {
            "text/plain": [
              "125"
            ]
          },
          "metadata": {},
          "execution_count": 1
        }
      ]
    }
  ]
}